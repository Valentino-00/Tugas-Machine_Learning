{
  "cells": [
    {
      "cell_type": "markdown",
      "metadata": {
        "id": "lMUV5nRLc-TF"
      },
      "source": [
        "# Python Basic 3\n",
        "Functions, tuples, dictionaries, and data processing\n",
        "\n",
        "Referensi Tambahan:\n",
        "- https://docs.python.org/3.8/\n",
        "- https://docs.python.org/id/3.8/tutorial/\n",
        "\n",
        "\n",
        "## Materi\n",
        "\n",
        "- defining and using functions;\n",
        "- different ways of passing arguments;\n",
        "- name scopes;\n",
        "- tuples and dictionaries;\n",
        "- data processing."
      ]
    },
    {
      "cell_type": "markdown",
      "metadata": {
        "id": "J3G5md1Jc-TH"
      },
      "source": [
        "\n",
        "\n"
      ]
    },
    {
      "cell_type": "markdown",
      "metadata": {
        "id": "XxV4sYBfc-TH"
      },
      "source": [
        "# Function\n",
        "![function.png](attachment:function.png)\n",
        "- when you invoke a function, Python remembers the place where it happened and jumps into the invoked function;\n",
        "- the body of the function is then executed;\n",
        "- reaching the end of the function forces Python to return to the place directly after the point of invocation."
      ]
    },
    {
      "cell_type": "code",
      "execution_count": 1,
      "metadata": {
        "colab": {
          "base_uri": "https://localhost:8080/"
        },
        "id": "xaAH-ionc-TI",
        "outputId": "5093bbce-cc8e-4147-ce1d-615ed879fde0"
      },
      "outputs": [
        {
          "output_type": "stream",
          "name": "stdout",
          "text": [
            "Angka 1 :\n",
            "9\n",
            "9\n",
            "Angka 2 :\n",
            "8\n",
            "8\n",
            "Angka 3 :\n",
            "2\n",
            "2\n"
          ]
        }
      ],
      "source": [
        "# Motivasi function adalah perulangan kode\n",
        "\n",
        "print(\"Angka 1 :\")\n",
        "a = int(input())\n",
        "print(a)\n",
        "\n",
        "print(\"Angka 2 :\")\n",
        "b = int(input())\n",
        "print(b)\n",
        "\n",
        "print(\"Angka 3 :\")\n",
        "c = int(input())\n",
        "print(c)"
      ]
    },
    {
      "cell_type": "markdown",
      "metadata": {
        "id": "rC_3bNUBc-TJ"
      },
      "source": [
        "Sintaks Function:\n",
        "\n",
        "```python\n",
        "def functionName():\n",
        "    functionBody\n",
        "```"
      ]
    },
    {
      "cell_type": "code",
      "execution_count": 2,
      "metadata": {
        "colab": {
          "base_uri": "https://localhost:8080/"
        },
        "id": "-vCthWuRc-TJ",
        "outputId": "26a43943-2179-4450-f161-793e36b2bb56"
      },
      "outputs": [
        {
          "output_type": "stream",
          "name": "stdout",
          "text": [
            "Start disini... \n",
            "Input Angka :\n",
            "6\n",
            "6\n",
            "Input Angka :\n",
            "7\n",
            "7\n",
            "Input Angka :\n",
            "9\n",
            "9\n",
            "Stop disini... \n"
          ]
        }
      ],
      "source": [
        "def inputAngka():\n",
        "    print(\"Input Angka :\")\n",
        "    a = int(input())\n",
        "    print(a)\n",
        "\n",
        "print(\"Start disini... \")\n",
        "\n",
        "inputAngka()\n",
        "inputAngka()\n",
        "inputAngka()\n",
        "\n",
        "print(\"Stop disini... \")"
      ]
    },
    {
      "cell_type": "markdown",
      "metadata": {
        "id": "0JAM4TqKc-TJ"
      },
      "source": [
        "### Parametrized functions"
      ]
    },
    {
      "cell_type": "code",
      "execution_count": 3,
      "metadata": {
        "colab": {
          "base_uri": "https://localhost:8080/"
        },
        "id": "8vaXkS__c-TJ",
        "outputId": "d0bd6151-e47f-4795-b6ec-6cb11ee1be8a"
      },
      "outputs": [
        {
          "output_type": "stream",
          "name": "stdout",
          "text": [
            "Pesan  hallo\n",
            "Pesan  namanya siapa ?\n"
          ]
        }
      ],
      "source": [
        "def pesan(m):\n",
        "    print(\"Pesan \",m.lower())\n",
        "\n",
        "pesan(\"Hallo\")\n",
        "pesan(\"Namanya siapa ?\")"
      ]
    },
    {
      "cell_type": "code",
      "execution_count": 4,
      "metadata": {
        "colab": {
          "base_uri": "https://localhost:8080/"
        },
        "id": "K3-5d5Xfc-TK",
        "outputId": "c949745d-c98c-438d-d879-a2b10a87b915"
      },
      "outputs": [
        {
          "output_type": "stream",
          "name": "stdout",
          "text": [
            "Nama :  Abu No Hp :  123\n",
            "Nama :  Abu No Hp :  0817244\n"
          ]
        }
      ],
      "source": [
        "def pesan(nama, nohp):\n",
        "    print(\"Nama : \",nama, \"No Hp : \",nohp)\n",
        "\n",
        "pesan(\"Abu\", 123)\n",
        "pesan(\"Abu\", \"0817244\")"
      ]
    },
    {
      "cell_type": "code",
      "execution_count": 5,
      "metadata": {
        "colab": {
          "base_uri": "https://localhost:8080/"
        },
        "id": "hp5scSw5c-TK",
        "outputId": "a8510af4-8a9f-4810-847c-00e1312f5556"
      },
      "outputs": [
        {
          "output_type": "stream",
          "name": "stdout",
          "text": [
            "Abu Salam 30.5\n"
          ]
        }
      ],
      "source": [
        "def tambahUsia(nama, umur):\n",
        "    umur = umur + 0.5\n",
        "    print(nama, umur)\n",
        "\n",
        "tambahUsia(\"Abu Salam\", 30)"
      ]
    },
    {
      "cell_type": "markdown",
      "metadata": {
        "id": "FXI4xOhlc-TK"
      },
      "source": [
        "### Posisi Parameter\n",
        "\n"
      ]
    },
    {
      "cell_type": "code",
      "execution_count": 6,
      "metadata": {
        "colab": {
          "base_uri": "https://localhost:8080/"
        },
        "id": "tCaHeqiCc-TL",
        "outputId": "61adb716-a973-4a51-8151-33b715b5fc9d"
      },
      "outputs": [
        {
          "output_type": "stream",
          "name": "stdout",
          "text": [
            "Hallo namanya adalah :  Abu Salam\n",
            "Hallo namanya adalah :  Dhita Aulia\n"
          ]
        }
      ],
      "source": [
        "def perkenalan(namaDepan, namaBelakang):\n",
        "    print(\"Hallo namanya adalah : \", namaDepan, namaBelakang)\n",
        "\n",
        "perkenalan(\"Abu\",\"Salam\")\n",
        "perkenalan(\"Dhita\",\"Aulia\")"
      ]
    },
    {
      "cell_type": "code",
      "execution_count": 7,
      "metadata": {
        "colab": {
          "base_uri": "https://localhost:8080/"
        },
        "id": "l4LqFdiKc-TL",
        "outputId": "d24f6fcc-974a-434a-aa24-c765863955d1"
      },
      "outputs": [
        {
          "output_type": "stream",
          "name": "stdout",
          "text": [
            "Hallo namanya adalah :  Abu2 salam2\n",
            "Hallo namanya adalah :  dhita2 aulia2\n"
          ]
        }
      ],
      "source": [
        "perkenalan(namaDepan = \"Abu2\", namaBelakang = \"salam2\")\n",
        "perkenalan(namaBelakang = \"aulia2\", namaDepan = \"dhita2\")"
      ]
    },
    {
      "cell_type": "code",
      "execution_count": 8,
      "metadata": {
        "colab": {
          "base_uri": "https://localhost:8080/"
        },
        "id": "c_60SPoQc-TL",
        "outputId": "4072b04b-ca94-4ad7-eddb-11ec95b5325a"
      },
      "outputs": [
        {
          "output_type": "stream",
          "name": "stdout",
          "text": [
            "5 + 5 + 4 = 14\n"
          ]
        }
      ],
      "source": [
        "def jumlah(a, b, c):\n",
        "    print(a, \"+\", b, \"+\", c, \"=\", a + b + c)\n",
        "\n",
        "jumlah(5,5,4)"
      ]
    },
    {
      "cell_type": "markdown",
      "metadata": {
        "id": "H0mORMm0c-TL"
      },
      "source": [
        "## Default parameter"
      ]
    },
    {
      "cell_type": "code",
      "execution_count": 9,
      "metadata": {
        "colab": {
          "base_uri": "https://localhost:8080/"
        },
        "id": "-TN_7Y-Mc-TL",
        "outputId": "1ddb8af2-6eff-4be1-a4cd-1dd46d304550"
      },
      "outputs": [
        {
          "output_type": "stream",
          "name": "stdout",
          "text": [
            "Hello, my name is Abu Smith\n",
            "Hello, my name is Abu Salam\n",
            "Hello, my name is Abu Salam\n"
          ]
        }
      ],
      "source": [
        "def introduction(firstName=\"John\",lastName=\"Smith\"):\n",
        "    print(\"Hello, my name is\", firstName, lastName)\n",
        "\n",
        "#Call the Function here\n",
        "introduction(firstName=\"Abu\")\n",
        "introduction(firstName=\"Abu\", lastName=\"Salam\")\n",
        "introduction(\"Abu\", lastName=\"Salam\")"
      ]
    },
    {
      "cell_type": "code",
      "execution_count": 10,
      "metadata": {
        "colab": {
          "base_uri": "https://localhost:8080/"
        },
        "id": "JRUi-J29c-TM",
        "outputId": "3b642f0e-2444-4d3e-ff3a-0f48a3143b0d"
      },
      "outputs": [
        {
          "output_type": "stream",
          "name": "stdout",
          "text": [
            "Hello, my name is Abu alex Salam\n"
          ]
        }
      ],
      "source": [
        "def introductionLengkap(firstName, lastName, middleName=\"Guntur\"):\n",
        "    print(\"Hello, my name is\", firstName, middleName, lastName)\n",
        "\n",
        "#Call the Function here\n",
        "introductionLengkap(firstName=\"Abu\", lastName=\"Salam\", middleName=\"alex\")"
      ]
    },
    {
      "cell_type": "markdown",
      "metadata": {
        "id": "k_0GYaOYc-TM"
      },
      "source": [
        "## Function dengan Return"
      ]
    },
    {
      "cell_type": "code",
      "execution_count": 11,
      "metadata": {
        "colab": {
          "base_uri": "https://localhost:8080/"
        },
        "id": "kVJW2HV2c-TM",
        "outputId": "779ddd6c-bcca-43b3-ab81-9823944b6d2e"
      },
      "outputs": [
        {
          "output_type": "stream",
          "name": "stdout",
          "text": [
            "113.09733552923255\n",
            "25.0\n"
          ]
        }
      ],
      "source": [
        "def hitungLuasLingkaran(r):\n",
        "    import math\n",
        "    pi = math.pi\n",
        "    luas = pi * r * r\n",
        "    return luas\n",
        "\n",
        "# buat sebuah fungsi untuk menghitung luas segitiga\n",
        "def hitungLuasSegitiga(a,t):\n",
        "    luas = 0.5 * a * t\n",
        "    return luas\n",
        "\n",
        "\n",
        "x = hitungLuasLingkaran(6)\n",
        "y = hitungLuasSegitiga(5,10)\n",
        "\n",
        "print(x)\n",
        "print(y)"
      ]
    },
    {
      "cell_type": "code",
      "execution_count": 12,
      "metadata": {
        "colab": {
          "base_uri": "https://localhost:8080/"
        },
        "id": "_pHOl3GDc-TM",
        "outputId": "0ab3438f-9f36-47dd-a9ae-f29fead97080"
      },
      "outputs": [
        {
          "output_type": "stream",
          "name": "stdout",
          "text": [
            "This Lesson is interesting!\n",
            "'Boredom Mode' ON.\n",
            "123\n",
            "test\n"
          ]
        }
      ],
      "source": [
        "def boringFunction():\n",
        "    print(\"'Boredom Mode' ON.\")\n",
        "    return 123\n",
        "\n",
        "print(\"This Lesson is interesting!\")\n",
        "x = boringFunction()\n",
        "print(x)\n",
        "print(\"test\")"
      ]
    },
    {
      "cell_type": "code",
      "execution_count": 13,
      "metadata": {
        "colab": {
          "base_uri": "https://localhost:8080/"
        },
        "id": "jFiqNnE9c-TM",
        "outputId": "c6137983-e2cf-466e-99e0-5ea878476135"
      },
      "outputs": [
        {
          "output_type": "stream",
          "name": "stdout",
          "text": [
            "7\n"
          ]
        }
      ],
      "source": [
        "def jumlah(a,b):\n",
        "    c = a + b\n",
        "    return c\n",
        "\n",
        "a = jumlah(3,4)\n",
        "print(a)"
      ]
    },
    {
      "cell_type": "code",
      "execution_count": 14,
      "metadata": {
        "colab": {
          "base_uri": "https://localhost:8080/"
        },
        "id": "g6W726wUc-TN",
        "outputId": "f8ab09e4-9722-4d8c-f7fe-89ce8276d9ee"
      },
      "outputs": [
        {
          "output_type": "stream",
          "name": "stdout",
          "text": [
            "True\n",
            "None\n"
          ]
        }
      ],
      "source": [
        "def strangeFunction(n):\n",
        "    if(n % 2 == 0):\n",
        "        return True\n",
        "\n",
        "#Call the Function here\n",
        "\n",
        "print(strangeFunction(4))\n",
        "print(strangeFunction(3))"
      ]
    },
    {
      "cell_type": "code",
      "execution_count": 15,
      "metadata": {
        "colab": {
          "base_uri": "https://localhost:8080/"
        },
        "id": "6hVgOX0Fc-TN",
        "outputId": "3421498a-9b42-45af-a302-19d03a0256ef"
      },
      "outputs": [
        {
          "output_type": "stream",
          "name": "stdout",
          "text": [
            "10\n"
          ]
        }
      ],
      "source": [
        "def sumOfList(lst):\n",
        "    sum = 0\n",
        "\n",
        "    for elem in lst:\n",
        "        sum += elem\n",
        "\n",
        "    return sum\n",
        "\n",
        "#Call the Function here\n",
        "x = sumOfList([2,2,2,2,2])\n",
        "print(x)"
      ]
    },
    {
      "cell_type": "code",
      "execution_count": 16,
      "metadata": {
        "colab": {
          "base_uri": "https://localhost:8080/"
        },
        "id": "fDeCJCdXc-TN",
        "outputId": "bfe9c145-14c2-45bf-8c29-00cc65cc6f98"
      },
      "outputs": [
        {
          "output_type": "stream",
          "name": "stdout",
          "text": [
            "Insert 0\n",
            "[0]\n",
            "Insert 1\n",
            "[1, 0]\n",
            "Insert 2\n",
            "[2, 1, 0]\n",
            "Insert 3\n",
            "[3, 2, 1, 0]\n",
            "Insert 4\n",
            "[4, 3, 2, 1, 0]\n",
            "Insert 5\n",
            "[5, 4, 3, 2, 1, 0]\n",
            "Insert 6\n",
            "[6, 5, 4, 3, 2, 1, 0]\n",
            "Insert 7\n",
            "[7, 6, 5, 4, 3, 2, 1, 0]\n",
            "Insert 8\n",
            "[8, 7, 6, 5, 4, 3, 2, 1, 0]\n",
            "Insert 9\n",
            "[9, 8, 7, 6, 5, 4, 3, 2, 1, 0]\n",
            "Hasil :  [9, 8, 7, 6, 5, 4, 3, 2, 1, 0]\n"
          ]
        }
      ],
      "source": [
        "def strangeListFunction(n):\n",
        "    strangeList = []\n",
        "\n",
        "    for i in range(0, n):\n",
        "        print(\"Insert\",i)\n",
        "        strangeList.insert(0, i)\n",
        "        print(strangeList)\n",
        "\n",
        "    return strangeList\n",
        "\n",
        "#Call the Function here\n",
        "print(\"Hasil : \", strangeListFunction(10))"
      ]
    },
    {
      "cell_type": "markdown",
      "metadata": {
        "id": "29hrye_Yc-TN"
      },
      "source": [
        "### Latihan\n",
        "\n",
        "Your task is to write and test a function which takes one argument (a year) and returns `True` if the year is a leap year, or `False` otherwise.\n",
        "\n",
        "The seed of the function is already sown in the skeleton code in the editor.\n",
        "\n",
        "Note: we've also prepared a short testing code, which you can use to test your function.\n",
        "\n",
        "The code uses two lists - one with the test data, and the other containing the expected results. The code will tell you if any of your results are invalid.\n",
        "\n",
        "```python\n",
        "def isYearLeap(year):\n",
        "#\n",
        "# put your code here\n",
        "#\n",
        "\n",
        "testData = [1900, 2000, 2016, 1987]\n",
        "testResults = [False, True, True, False]\n",
        "for i in range(len(testData)):\n",
        "\tyr = testData[i]\n",
        "\tprint(yr,\"->\",end=\"\")\n",
        "\tresult = isYearLeap(yr)\n",
        "\tif result == testResults[i]:\n",
        "\t\tprint(\"OK\")\n",
        "\telse:\n",
        "\t\tprint(\"Failed\")\n",
        "        \n",
        "```\n"
      ]
    },
    {
      "cell_type": "code",
      "execution_count": 17,
      "metadata": {
        "colab": {
          "base_uri": "https://localhost:8080/"
        },
        "id": "tU6Tj4F1c-TN",
        "outputId": "bd2af918-aa13-4699-c263-375107e97246"
      },
      "outputs": [
        {
          "output_type": "stream",
          "name": "stdout",
          "text": [
            "1900 ->OK\n",
            "2000 ->OK\n",
            "2016 ->OK\n",
            "1987 ->OK\n",
            "2004 ->OK\n"
          ]
        }
      ],
      "source": [
        "# Function Test tahun Kabisat\n",
        "def isYearLeap(year):\n",
        "    if (year % 4) == 0:\n",
        "        if (year % 100) == 0:\n",
        "            if (year % 400) == 0:\n",
        "                return True\n",
        "            else:\n",
        "                return False\n",
        "        else:\n",
        "            return True\n",
        "    else:\n",
        "        return False\n",
        "\n",
        "testData = [1900, 2000, 2016, 1987,2004]\n",
        "testResults = [False, True, True, False, True]\n",
        "for i in range(len(testData)):\n",
        "    yr = testData[i]\n",
        "    print(yr,\"->\",end=\"\")\n",
        "    result = isYearLeap(yr)\n",
        "    if result == testResults[i]:\n",
        "        print(\"OK\")\n",
        "    else:\n",
        "        print(\"Failed\")"
      ]
    },
    {
      "cell_type": "markdown",
      "metadata": {
        "id": "qTqJuMCmc-TO"
      },
      "source": [
        "## Scope in Function"
      ]
    },
    {
      "cell_type": "code",
      "execution_count": 18,
      "metadata": {
        "colab": {
          "base_uri": "https://localhost:8080/"
        },
        "id": "jTbWnYgqc-TO",
        "outputId": "04b1a2d6-cbc4-477d-d3c9-5f4d5689dab7"
      },
      "outputs": [
        {
          "output_type": "stream",
          "name": "stdout",
          "text": [
            "90\n",
            "120\n"
          ]
        }
      ],
      "source": [
        "def scopeTest():\n",
        "    print(a)\n",
        "    b = 120\n",
        "    print(b)\n",
        "\n",
        "#Call the Function here\n",
        "\n",
        "a = 90\n",
        "scopeTest()"
      ]
    },
    {
      "cell_type": "code",
      "execution_count": 19,
      "metadata": {
        "colab": {
          "base_uri": "https://localhost:8080/"
        },
        "id": "VcNODAdIc-TO",
        "outputId": "22e2355f-7498-47c9-be1e-ca2fe040ac19"
      },
      "outputs": [
        {
          "output_type": "stream",
          "name": "stdout",
          "text": [
            "Do I know that variable? 1\n",
            "1\n"
          ]
        }
      ],
      "source": [
        "def myFunction():\n",
        "    print(\"Do I know that variable?\", var)\n",
        "\n",
        "#Call the Function here\n",
        "var = 1\n",
        "myFunction()\n",
        "print(var)\n",
        "\n",
        "# The answer is: a variable existing outside a function\n",
        "# has a scope inside the functions' bodies."
      ]
    },
    {
      "cell_type": "code",
      "execution_count": 20,
      "metadata": {
        "colab": {
          "base_uri": "https://localhost:8080/"
        },
        "id": "cL9Di-XFc-TO",
        "outputId": "e030866f-2dff-4c68-dfab-638281b55167"
      },
      "outputs": [
        {
          "output_type": "stream",
          "name": "stdout",
          "text": [
            "Do I know that variable? 2\n",
            "2\n"
          ]
        }
      ],
      "source": [
        "def myFunction():\n",
        "    global var\n",
        "    var = 2\n",
        "    print(\"Do I know that variable?\", var)\n",
        "\n",
        "#Call the Function here\n",
        "var = 1\n",
        "myFunction()\n",
        "print(var)\n",
        "\n",
        "# There's a special Python method which can extend a variable's scope\n",
        "# in a way which includes the functions' bodies\n",
        "# (even if you want not only to read the values, but also to modify them)."
      ]
    },
    {
      "cell_type": "code",
      "execution_count": 21,
      "metadata": {
        "colab": {
          "base_uri": "https://localhost:8080/"
        },
        "id": "r_fBrUxAc-TO",
        "outputId": "dae590d8-23e2-46a8-aadf-c17fdb6c7a60"
      },
      "outputs": [
        {
          "output_type": "stream",
          "name": "stdout",
          "text": [
            "I got 1\n",
            "I have 2\n",
            "1\n"
          ]
        }
      ],
      "source": [
        "def myFunction(n):\n",
        "    print(\"I got\", n)\n",
        "    n += 1\n",
        "    print(\"I have\", n)\n",
        "\n",
        "#Call the Function here\n",
        "var = 1\n",
        "myFunction(var)\n",
        "\n",
        "print(var)\n",
        "\n",
        "#changing the parameter's value doesn't propagate outside the function"
      ]
    },
    {
      "cell_type": "markdown",
      "metadata": {
        "id": "x1c_m1Vcc-TP"
      },
      "source": [
        "# Some Function Examples"
      ]
    },
    {
      "cell_type": "markdown",
      "metadata": {
        "id": "YgRAWEIec-TP"
      },
      "source": [
        "## BMI\n",
        "(Body Mass Index)"
      ]
    },
    {
      "cell_type": "code",
      "execution_count": 22,
      "metadata": {
        "colab": {
          "base_uri": "https://localhost:8080/"
        },
        "id": "m3ROXxx_c-TP",
        "outputId": "4f167063-2450-4097-c30d-898bd83b0d2e"
      },
      "outputs": [
        {
          "output_type": "stream",
          "name": "stdout",
          "text": [
            "22.758306781975424\n"
          ]
        }
      ],
      "source": [
        "def bmi(weight, height):\n",
        "    return weight / height ** 2\n",
        "\n",
        "print(bmi(65, 1.69))"
      ]
    },
    {
      "cell_type": "code",
      "execution_count": 23,
      "metadata": {
        "colab": {
          "base_uri": "https://localhost:8080/"
        },
        "id": "cBar6fbNc-TP",
        "outputId": "8f940741-20c3-4fcc-dfcc-10f1e82f56dd"
      },
      "outputs": [
        {
          "output_type": "stream",
          "name": "stdout",
          "text": [
            "24.508945765204302\n"
          ]
        }
      ],
      "source": [
        "def bmi(weight, height):\n",
        "    if height < 1.0 \\\n",
        "    or height > 2.5 \\\n",
        "    or weight < 20 \\\n",
        "    or weight > 200:\n",
        "        return None\n",
        "\n",
        "    return weight / height ** 2\n",
        "\n",
        "print(bmi(70, 1.69))"
      ]
    },
    {
      "cell_type": "markdown",
      "metadata": {
        "id": "Bu5o5p8Hc-TQ"
      },
      "source": [
        "## Segitiga"
      ]
    },
    {
      "cell_type": "code",
      "execution_count": 24,
      "metadata": {
        "colab": {
          "base_uri": "https://localhost:8080/"
        },
        "id": "WuyKqwP9c-TQ",
        "outputId": "103eeb9b-7e25-4a92-9023-91aaef519dd9"
      },
      "outputs": [
        {
          "output_type": "stream",
          "name": "stdout",
          "text": [
            "True\n",
            "True\n"
          ]
        }
      ],
      "source": [
        "def isItATriangle(a, b, c):\n",
        "    if a + b <= c:\n",
        "        return False\n",
        "    if b + c <= a:\n",
        "        return False\n",
        "    if c + a <= b:\n",
        "        return False\n",
        "\n",
        "    return True\n",
        "\n",
        "#Call the Function here\n",
        "print(isItATriangle(1,1,1))\n",
        "print(isItATriangle(1,2,2))"
      ]
    },
    {
      "cell_type": "code",
      "execution_count": 25,
      "metadata": {
        "colab": {
          "base_uri": "https://localhost:8080/"
        },
        "id": "FpLGwrLtc-TQ",
        "outputId": "31c0e35b-75e1-4c75-8bad-88e9b78b7d1b"
      },
      "outputs": [
        {
          "output_type": "stream",
          "name": "stdout",
          "text": [
            "Enter the first side's length: 10\n",
            "Enter the second side's length: 12\n",
            "Enter the third side's length: 15\n",
            "Congratulations - it can be a triangle.\n"
          ]
        }
      ],
      "source": [
        "def isItATriangle(a, b, c):\n",
        "    return a + b > c and b + c > a and c + a > b\n",
        "\n",
        "a = float(input(\"Enter the first side's length: \"))\n",
        "b = float(input(\"Enter the second side's length: \"))\n",
        "c = float(input(\"Enter the third side's length: \"))\n",
        "\n",
        "if isItATriangle(a, b, c):\n",
        "    print(\"Congratulations - it can be a triangle.\")\n",
        "else:\n",
        "    print(\"Sorry, it won't be a triangle.\")"
      ]
    },
    {
      "cell_type": "markdown",
      "metadata": {
        "id": "i-vVNWXlc-TQ"
      },
      "source": [
        "## Faktorial"
      ]
    },
    {
      "cell_type": "code",
      "execution_count": 26,
      "metadata": {
        "colab": {
          "base_uri": "https://localhost:8080/"
        },
        "id": "ePFPTmOFc-TR",
        "outputId": "df3411a2-0a73-40c3-a398-f46e20842ab6"
      },
      "outputs": [
        {
          "output_type": "stream",
          "name": "stdout",
          "text": [
            "1 1\n",
            "2 2\n",
            "3 6\n",
            "4 24\n",
            "5 120\n",
            "6 720\n",
            "7 5040\n",
            "8 40320\n",
            "9 362880\n",
            "10 3628800\n",
            "11 39916800\n",
            "12 479001600\n",
            "13 6227020800\n",
            "14 87178291200\n"
          ]
        }
      ],
      "source": [
        "def factorialFun(n):\n",
        "    if n < 0:\n",
        "        return None\n",
        "    if n < 2:\n",
        "        return 1\n",
        "\n",
        "    product = 1\n",
        "    for i in range(2, n + 1):\n",
        "        product *= i\n",
        "    return product\n",
        "\n",
        "#Call the Function here\n",
        "for n in range(1, 15): # testing\n",
        "    print(n, factorialFun(n))"
      ]
    },
    {
      "cell_type": "markdown",
      "metadata": {
        "id": "E7kaoC1nc-TR"
      },
      "source": [
        "## Fibonacci"
      ]
    },
    {
      "cell_type": "code",
      "execution_count": 27,
      "metadata": {
        "colab": {
          "base_uri": "https://localhost:8080/"
        },
        "id": "k3-afrWZc-TR",
        "outputId": "6cc7f4d1-9ff4-44dc-88a2-99f16c5a8dc2"
      },
      "outputs": [
        {
          "output_type": "stream",
          "name": "stdout",
          "text": [
            "1 > 1\n",
            "2 > 1\n",
            "3 > 2\n",
            "4 > 3\n",
            "5 > 5\n",
            "6 > 8\n",
            "7 > 13\n",
            "8 > 21\n",
            "9 > 34\n"
          ]
        }
      ],
      "source": [
        "def fib(n):\n",
        "    if n < 1:\n",
        "         return None\n",
        "    if n < 3:\n",
        "        return 1\n",
        "\n",
        "    elem1 = elem2 = 1\n",
        "    sum = 0\n",
        "    for i in range(3, n + 1):\n",
        "        sum = elem1 + elem2\n",
        "        elem1, elem2 = elem2, sum\n",
        "    return sum\n",
        "\n",
        "#Call the Function here\n",
        "for n in range(1, 10): #testing\n",
        "    print(n, \">\", fib(n))"
      ]
    },
    {
      "cell_type": "markdown",
      "metadata": {
        "id": "goBnxDu6c-TR"
      },
      "source": [
        "## Recursion"
      ]
    },
    {
      "cell_type": "code",
      "execution_count": 28,
      "metadata": {
        "colab": {
          "base_uri": "https://localhost:8080/"
        },
        "id": "O7DZTdJmc-TR",
        "outputId": "ab79a83c-e5b9-4fb2-9a2e-631d75022274"
      },
      "outputs": [
        {
          "output_type": "stream",
          "name": "stdout",
          "text": [
            "1 -> 1\n",
            "2 -> 1\n",
            "3 -> 2\n",
            "4 -> 3\n",
            "5 -> 5\n",
            "6 -> 8\n",
            "7 -> 13\n",
            "8 -> 21\n",
            "9 -> 34\n",
            "56\n"
          ]
        }
      ],
      "source": [
        "#recursion 1\n",
        "def fib(n):\n",
        "    if n < 1:\n",
        "        return None\n",
        "    if n < 3:\n",
        "        return 1\n",
        "    return fib(n - 1) + fib(n - 2)\n",
        "\n",
        "for n in range(1, 10): # testing\n",
        "    print(n, \"->\", fib(n))\n",
        "\n",
        "#recursion 2\n",
        "\n",
        "def fun(a):\n",
        "    if a > 30:\n",
        "        return 3\n",
        "    else:\n",
        "        return a + fun(a + 3)\n",
        "\n",
        "\n",
        "print(fun(25))\n"
      ]
    },
    {
      "cell_type": "markdown",
      "metadata": {
        "id": "NYOt-TTqc-TS"
      },
      "source": [
        "#### Contoh Kasus Stop Word Removal"
      ]
    },
    {
      "cell_type": "code",
      "execution_count": 29,
      "metadata": {
        "colab": {
          "base_uri": "https://localhost:8080/"
        },
        "id": "mYJnfZQlc-TS",
        "outputId": "d778f7c5-0adc-4efe-9ae6-2ab4c81ceeec"
      },
      "outputs": [
        {
          "output_type": "stream",
          "name": "stdout",
          "text": [
            "ibu pergi pasar bapak\n"
          ]
        }
      ],
      "source": [
        "kalimat = \"Ibu pergi ke pasar dengan Bapak\"\n",
        "stopw = ['ke','dengan','saya','dia']\n",
        "\n",
        "def removeStop(sentence):\n",
        "#     words = []\n",
        "    words = [word for word in sentence.split() if word not in stopw]\n",
        "#     for word in sentence.split():\n",
        "#         if word not in stopw:\n",
        "#             words.append(word)\n",
        "\n",
        "    return ' '.join(words)\n",
        "\n",
        "# print('ke' in kalimat.split())\n",
        "kalimat_stop = removeStop(kalimat.lower())\n",
        "\n",
        "print(kalimat_stop)\n",
        "# output kalimat_stop: Ibu pergi pasar Bapak\"\n",
        "\n"
      ]
    },
    {
      "cell_type": "markdown",
      "metadata": {
        "id": "oXqPw7kRc-TS"
      },
      "source": [
        "# Tuples and Dictionaries"
      ]
    },
    {
      "cell_type": "markdown",
      "metadata": {
        "id": "9c8dS4ywc-TS"
      },
      "source": [
        "##### List VS Tuple\n",
        "List datanya bisa dirubah selama eksekusi program, sifatnya bernama mutable\n",
        "Sebaliknya tuple tidak bisa, sifatnya dinamakan immutable. Persamaannya keduanya sama-sama bisa menyimpan banyak nilai sekaligus dalam satu tipe data (sequence type)"
      ]
    },
    {
      "cell_type": "markdown",
      "metadata": {
        "id": "MT17NicWc-TS"
      },
      "source": [
        "## Tuples\n",
        "Tuples are ordered and unchangeable (immutable) collections of data. They can be thought of as immutable lists. They are written in round brackets:"
      ]
    },
    {
      "cell_type": "code",
      "execution_count": 30,
      "metadata": {
        "colab": {
          "base_uri": "https://localhost:8080/"
        },
        "id": "OZdZNKnDc-TS",
        "outputId": "0b93d4b2-9941-4be9-e7a2-82e582d7d26a"
      },
      "outputs": [
        {
          "output_type": "stream",
          "name": "stdout",
          "text": [
            "(1, 2, True, 'a string', (3, 4), [5, 6], None)\n",
            "[1, 2, True, 'a string', (3, 4), [5, 6], None]\n"
          ]
        }
      ],
      "source": [
        "myTuple = (1, 2, True, \"a string\", (3, 4), [5, 6], None)\n",
        "#Print Function here\n",
        "print(myTuple)\n",
        "\n",
        "myList = [1, 2, True, \"a string\", (3, 4), [5, 6], None]\n",
        "#Print Function here\n",
        "print(myList)\n"
      ]
    },
    {
      "cell_type": "code",
      "execution_count": 31,
      "metadata": {
        "colab": {
          "base_uri": "https://localhost:8080/"
        },
        "id": "K6BwfhnOc-TS",
        "outputId": "7ae70984-365c-40f4-e4cc-8f71b4afd355"
      },
      "outputs": [
        {
          "output_type": "stream",
          "name": "stdout",
          "text": [
            "(1, 2, 3, 4)\n",
            "(1.0, 0.5, 0.25, 0.124)\n"
          ]
        }
      ],
      "source": [
        "tup1 = (1,2,3,4)\n",
        "tup2 = 1.0, .5, .25, .124\n",
        "\n",
        "print(tup1)\n",
        "print(tup2)"
      ]
    },
    {
      "cell_type": "code",
      "execution_count": 32,
      "metadata": {
        "colab": {
          "base_uri": "https://localhost:8080/"
        },
        "id": "PFB0h7iFc-TS",
        "outputId": "1a71bbcc-acbd-4943-ae93-414ca0c76865"
      },
      "outputs": [
        {
          "output_type": "stream",
          "name": "stdout",
          "text": [
            "<class 'tuple'>\n"
          ]
        }
      ],
      "source": [
        "emptyTuple = ()\n",
        "print(type(emptyTuple))"
      ]
    },
    {
      "cell_type": "code",
      "execution_count": 33,
      "metadata": {
        "colab": {
          "base_uri": "https://localhost:8080/"
        },
        "id": "jrwqsM3gc-TS",
        "outputId": "d9ef369f-774f-4733-aff3-a3d355735442"
      },
      "outputs": [
        {
          "output_type": "stream",
          "name": "stdout",
          "text": [
            "1\n",
            "1000\n",
            "(10, 100, 1000)\n",
            "(1, 10)\n",
            "1 10 100 1000 "
          ]
        }
      ],
      "source": [
        "myTuple = (1, 10, 100, 1000)\n",
        "\n",
        "print(myTuple[0])\n",
        "print(myTuple[-1])\n",
        "print(myTuple[1:])\n",
        "print(myTuple[:-2])\n",
        "\n",
        "for elem in myTuple:\n",
        "    print(elem, end = \" \")"
      ]
    },
    {
      "cell_type": "code",
      "execution_count": 34,
      "metadata": {
        "id": "QYnrlpCDc-TS"
      },
      "outputs": [],
      "source": [
        "myTuple = (1, 10, 100, 1000)\n",
        "\n",
        "#Tuple operation ?\n",
        "\n",
        "# myTuple.append(10000)\n",
        "# del myTuple[0]\n",
        "# myTuple[1] = -10"
      ]
    },
    {
      "cell_type": "code",
      "execution_count": 35,
      "metadata": {
        "colab": {
          "base_uri": "https://localhost:8080/"
        },
        "id": "qAqQQkKuc-TT",
        "outputId": "301d02ab-5ad1-42bf-f461-1243476dfdf6"
      },
      "outputs": [
        {
          "output_type": "stream",
          "name": "stdout",
          "text": [
            "<class 'tuple'>\n",
            "1\n",
            "100\n",
            "(10, 100)\n",
            "(1,)\n"
          ]
        }
      ],
      "source": [
        "myTuple = (1, 10, 100)\n",
        "print(type(myTuple))\n",
        "\n",
        "#Tuple operation\n",
        "print(myTuple[0])\n",
        "print(myTuple[-1])\n",
        "print(myTuple[1:])\n",
        "print(myTuple[:-2])\n",
        "# Print Function here"
      ]
    },
    {
      "cell_type": "code",
      "execution_count": 36,
      "metadata": {
        "colab": {
          "base_uri": "https://localhost:8080/"
        },
        "id": "ryTX34bsc-TT",
        "outputId": "7d22330f-174e-4bd6-b7e2-02e6c6087c3a"
      },
      "outputs": [
        {
          "output_type": "stream",
          "name": "stdout",
          "text": [
            "1\n",
            "2\n",
            "3\n",
            "False\n",
            "True\n",
            "4\n",
            "(1, 2, 3, 1, 2, 3, 4)\n",
            "(1, 2, 3, 5, 1, 2, 3, 5)\n"
          ]
        }
      ],
      "source": [
        "# Example 1\n",
        "t1 = (1, 2, 3)\n",
        "for elem in t1:\n",
        "    print(elem)\n",
        "\n",
        "# Example 2\n",
        "t2 = (1, 2, 3, 4)\n",
        "print(5 in t2)\n",
        "print(5 not in t2)\n",
        "\n",
        "# Example 3\n",
        "t3 = (1, 2, 3, 5)\n",
        "print(len(t3))\n",
        "\n",
        "# Example 4\n",
        "t4 = t1 + t2\n",
        "t5 = t3 * 2\n",
        "\n",
        "print(t4)\n",
        "print(t5)"
      ]
    },
    {
      "cell_type": "markdown",
      "metadata": {
        "id": "gb24JkG6c-TT"
      },
      "source": [
        "## Dictionaries"
      ]
    },
    {
      "cell_type": "markdown",
      "metadata": {
        "id": "ajic0Qwec-TT"
      },
      "source": [
        "In Python's world, the word you look for is named a key. The word you get from the dictionary is called a value.\n",
        "\n",
        "Dictionaries are unordered*, changeable (mutable), and indexed collections of data. (*In Python 3.6x dictionaries have become ordered by default.\n",
        "\n",
        "This means that a dictionary is a set of key-value pairs. Note:\n",
        "\n",
        "- each key must be unique - it's not possible to have more than one key of the same value;\n",
        "- a key may be data of any type: it may be a number (integer or float), or even a string;\n",
        "- a dictionary is not a list - a list contains a set of numbered values, while a dictionary holds pairs of values;\n",
        "- the len() function works for dictionaries, too - it returns the numbers of key-value elements in the dictionary;\n",
        "- a dictionary is a one-way tool - if you have an English-French dictionary, you can look for French equivalents of English terms, but not vice versa."
      ]
    },
    {
      "cell_type": "code",
      "execution_count": 37,
      "metadata": {
        "colab": {
          "base_uri": "https://localhost:8080/"
        },
        "id": "Q-BaUYnwc-TT",
        "outputId": "3c006ad1-de26-406b-8e3e-b553955c9e9f"
      },
      "outputs": [
        {
          "output_type": "stream",
          "name": "stdout",
          "text": [
            "\n",
            "{'boss': 5551234567, 'Suzy': [22657854310, 52852352]}\n",
            "{}\n"
          ]
        }
      ],
      "source": [
        "kamus = {\"cat\" : \"chat\", \"dog\" : \"chien\", \"horse\" : \"cheval\"}\n",
        "phoneNumbers = {'boss' : 5551234567, 'Suzy' : [22657854310,52852352]}\n",
        "emptyDictionary = {}\n",
        "\n",
        "print()\n",
        "print(phoneNumbers)\n",
        "print(emptyDictionary)"
      ]
    },
    {
      "cell_type": "code",
      "execution_count": 38,
      "metadata": {
        "colab": {
          "base_uri": "https://localhost:8080/"
        },
        "id": "qHzZsI0Oc-TT",
        "outputId": "db977b24-a4dc-40d3-a91d-f6485f419bb4"
      },
      "outputs": [
        {
          "output_type": "stream",
          "name": "stdout",
          "text": [
            "chat\n",
            "[22657854310, 52852352]\n",
            "22657854310\n"
          ]
        }
      ],
      "source": [
        "print(kamus['cat'])\n",
        "print(phoneNumbers['Suzy'])\n",
        "print(phoneNumbers['Suzy'][0])"
      ]
    },
    {
      "cell_type": "code",
      "execution_count": 39,
      "metadata": {
        "colab": {
          "base_uri": "https://localhost:8080/"
        },
        "id": "26eamYnMc-TT",
        "outputId": "d88ebad1-7301-4e2b-fca9-f75a6dff762a"
      },
      "outputs": [
        {
          "output_type": "stream",
          "name": "stdout",
          "text": [
            "horse cheval\n",
            "cat chat\n",
            "dog chien\n"
          ]
        }
      ],
      "source": [
        "dict = {\"horse\" : \"cheval\", \"cat\" : \"chat\", \"dog\" : \"chien\"}\n",
        "\n",
        "for key in dict.keys():\n",
        "    print(key,dict[key])"
      ]
    },
    {
      "cell_type": "code",
      "execution_count": 40,
      "metadata": {
        "colab": {
          "base_uri": "https://localhost:8080/"
        },
        "id": "0VVN7gqZc-TT",
        "outputId": "b351c57c-afa7-4513-c5ce-a61fc382f7b9"
      },
      "outputs": [
        {
          "output_type": "stream",
          "name": "stdout",
          "text": [
            "cat -> chat\n",
            "dog -> chien\n",
            "horse -> cheval\n"
          ]
        }
      ],
      "source": [
        "for key in sorted(dict.keys()):\n",
        "    print(key, \"->\", dict[key])"
      ]
    },
    {
      "cell_type": "markdown",
      "metadata": {
        "id": "s3w6QLRUc-TT"
      },
      "source": [
        "### items and values"
      ]
    },
    {
      "cell_type": "code",
      "execution_count": 41,
      "metadata": {
        "colab": {
          "base_uri": "https://localhost:8080/"
        },
        "id": "j2-OnL1nc-TU",
        "outputId": "f4abe45b-3007-4c66-e39f-b04324c9013e"
      },
      "outputs": [
        {
          "output_type": "stream",
          "name": "stdout",
          "text": [
            "cat -> chat\n",
            "dog -> chien\n",
            "horse -> cheval\n"
          ]
        }
      ],
      "source": [
        "dict = {\"cat\" : \"chat\", \"dog\" : \"chien\", \"horse\" : \"cheval\"}\n",
        "\n",
        "for english, french in dict.items():\n",
        "    print(english, \"->\", french)"
      ]
    },
    {
      "cell_type": "code",
      "execution_count": 42,
      "metadata": {
        "colab": {
          "base_uri": "https://localhost:8080/"
        },
        "id": "UO0q0JCKc-TU",
        "outputId": "6874e3bf-ac18-4cdf-830e-3267f41823dd"
      },
      "outputs": [
        {
          "output_type": "stream",
          "name": "stdout",
          "text": [
            "chat\n",
            "chien\n",
            "cheval\n"
          ]
        }
      ],
      "source": [
        "dict = {\"cat\" : \"chat\", \"dog\" : \"chien\", \"horse\" : \"cheval\"}\n",
        "\n",
        "for french in dict.values():\n",
        "    print(french)"
      ]
    },
    {
      "cell_type": "code",
      "execution_count": 43,
      "metadata": {
        "colab": {
          "base_uri": "https://localhost:8080/"
        },
        "id": "VHHUwmuCc-TU",
        "outputId": "8dbdee1c-908e-4a2e-d206-75ea738817d0"
      },
      "outputs": [
        {
          "output_type": "stream",
          "name": "stdout",
          "text": [
            "cat -> chat\n",
            "lion is not in dictionary\n",
            "horse -> cheval\n",
            "mouse is not in dictionary\n"
          ]
        }
      ],
      "source": [
        "dict = {\"cat\" : \"chat\", \"dog\" : \"chien\", \"horse\" : \"cheval\"}\n",
        "words = ['cat', 'lion', 'horse','mouse']\n",
        "\n",
        "for word in words:\n",
        "    if word in dict:\n",
        "        print(word, \"->\", dict[word])\n",
        "    else:\n",
        "        print(word, \"is not in dictionary\")"
      ]
    },
    {
      "cell_type": "markdown",
      "metadata": {
        "id": "pRRIz1kfc-TU"
      },
      "source": [
        "### Replace"
      ]
    },
    {
      "cell_type": "code",
      "execution_count": 44,
      "metadata": {
        "colab": {
          "base_uri": "https://localhost:8080/"
        },
        "id": "MBbKgv38c-TU",
        "outputId": "7a6d210e-de68-4b4b-f9bf-a3973542cf7f"
      },
      "outputs": [
        {
          "output_type": "stream",
          "name": "stdout",
          "text": [
            "{'cat': 'minou', 'dog': 'chien', 'horse': 'cheval'}\n"
          ]
        }
      ],
      "source": [
        "dict = {\"cat\" : \"chat\", \"dog\" : \"chien\", \"horse\" : \"cheval\"}\n",
        "\n",
        "dict['cat'] = 'minou'\n",
        "print(dict)"
      ]
    },
    {
      "cell_type": "markdown",
      "metadata": {
        "id": "Lw8Uxnk9c-TU"
      },
      "source": [
        "### Adding new key"
      ]
    },
    {
      "cell_type": "code",
      "execution_count": 45,
      "metadata": {
        "colab": {
          "base_uri": "https://localhost:8080/"
        },
        "id": "RZrt4qp6c-TU",
        "outputId": "c996066d-fb75-4b1c-df3b-74c4a4048d8e"
      },
      "outputs": [
        {
          "output_type": "stream",
          "name": "stdout",
          "text": [
            "{'cat': 'chat', 'dog': 'chien', 'horse': 'cheval', 'swan': 'cygne', 'animal': 'hewan'}\n",
            "animal hewan\n",
            "cat chat\n",
            "dog chien\n",
            "horse cheval\n",
            "swan cygne\n"
          ]
        }
      ],
      "source": [
        "dict = {\"cat\" : \"chat\", \"dog\" : \"chien\", \"horse\" : \"cheval\"}\n",
        "\n",
        "dict['swan'] = 'cygne'\n",
        "dict['animal'] = 'hewan'\n",
        "print(dict)\n",
        "\n",
        "for key in sorted(dict.keys()):\n",
        "    print(key,dict[key])"
      ]
    },
    {
      "cell_type": "markdown",
      "metadata": {
        "id": "-FoZfLTRc-TU"
      },
      "source": [
        "### Tuples and Dictionaries work Together\n",
        "\n"
      ]
    },
    {
      "cell_type": "markdown",
      "metadata": {
        "id": "pxQQ_mrRc-TU"
      },
      "source": [
        "- line 1: create an empty dictionary for the input data; the student's name is used as a key, while all the associated scores are stored in a tuple (the tuple may be a dictionary value - that's not a problem at all)\n",
        "- line 3: enter an \"infinite\" loop (don't worry, it'll break at the right moment)\n",
        "- line 4: read the student's name here;\n",
        "- line 5-6: if the name is exit, leave the loop;\n",
        "- line 8: ask for one of the student's scores (an integer from the range 1-10)\n",
        "- line 10-11: if the student's name is already in the dictionary, lengthen the associated tuple with the new score (note the += operator)\n",
        "- line 12-13: if this is a new student (unknown to the dictionary), create a new entry - its value is a one-element tuple containing the entered score;\n",
        "- line 15: iterate through the sorted students' names;\n",
        "- line 16-17: initialize the data needed to evaluate the average (sum and counter)\n",
        "- line 18-20: we iterate through the tuple, taking all the subsequent scores and updating the sum, together with the counter;\n",
        "- line 21: evaluate and print the student's name and average score."
      ]
    },
    {
      "cell_type": "code",
      "execution_count": 46,
      "metadata": {
        "colab": {
          "base_uri": "https://localhost:8080/"
        },
        "id": "0-_oGlvgc-TU",
        "outputId": "84315868-08d5-401f-d730-cc688332f7d4"
      },
      "outputs": [
        {
          "output_type": "stream",
          "name": "stdout",
          "text": [
            "Enter the student's name (or type exit to stop): alwi\n",
            "Enter the student's score (0-10): 8\n",
            "Enter the student's name (or type exit to stop): exit\n",
            "{'alwi': (8,)}\n",
            "alwi : 8.0\n"
          ]
        }
      ],
      "source": [
        "schoolClass = {}\n",
        "\n",
        "while True:\n",
        "    name = input(\"Enter the student's name (or type exit to stop): \")\n",
        "    if name == 'exit':\n",
        "        break\n",
        "\n",
        "    score = int(input(\"Enter the student's score (0-10): \"))\n",
        "\n",
        "    if name in schoolClass:\n",
        "        schoolClass[name] += (score,)\n",
        "    else:\n",
        "        schoolClass[name] = (score,)\n",
        "\n",
        "print(schoolClass)\n",
        "\n",
        "for name in sorted(schoolClass.keys()):\n",
        "    sum = 0\n",
        "    counter = 0\n",
        "    for score in schoolClass[name]:\n",
        "        sum += score\n",
        "        counter += 1\n",
        "    print(name, \":\", sum / counter)"
      ]
    },
    {
      "cell_type": "code",
      "execution_count": 47,
      "metadata": {
        "colab": {
          "base_uri": "https://localhost:8080/"
        },
        "id": "xDq5iFrcc-TU",
        "outputId": "6d78a9ab-57d8-4c4b-ae72-13a288a21c2f"
      },
      "outputs": [
        {
          "output_type": "stream",
          "name": "stdout",
          "text": [
            "{'ibu': 3, 'pergi': 1, 'pasar': 1, 'bapak': 1}\n"
          ]
        }
      ],
      "source": [
        "def tf(sentence):\n",
        "    d = {}\n",
        "    for word in sentence.split():\n",
        "        if word not in d:\n",
        "            d[word] = 1\n",
        "        else:\n",
        "            d[word] += 1\n",
        "    return d\n",
        "\n",
        "kalimat = \"Ibu pergi ke pasar dengan Bapak dan Ibu Ibu lain\"\n",
        "stopw.append('dan')\n",
        "stopw.append('lain')\n",
        "kalimat_stop = removeStop(kalimat.lower())\n",
        "tf_kalimat = tf(kalimat_stop)\n",
        "\n",
        "print(tf_kalimat)"
      ]
    },
    {
      "cell_type": "markdown",
      "metadata": {
        "id": "iLklpl4ec-TU"
      },
      "source": [
        "# Summary\n",
        "\n",
        "1. Dictionaries are unordered*, changeable (mutable), and indexed collections of data. (*In Python 3.6x dictionaries have become ordered by default.\n",
        "\n",
        "Each dictionary is a set of key : value pairs. You can create it by using the following syntax:\n",
        "\n",
        "```python            \n",
        "myDictionary = {\n",
        "    key1 : value1,\n",
        "    key2 : value2,\n",
        "    key3 : value3,\n",
        "    }\n",
        "```\n",
        "2. If you want to access a dictionary item, you can do so by making a reference to its key inside a pair of square brackets (ex. 1) or by using the get() method (ex. 2):\n",
        "\n",
        "```python                                                                                         \n",
        "polEngDict = {\n",
        "    \"kwiat\" : \"flower\",\n",
        "    \"woda\"  : \"water\",\n",
        "    \"gleba\" : \"soil\"\n",
        "    }\n",
        "\n",
        "item1 = polEngDict[\"gleba\"]    # ex. 1\n",
        "print(item1)    # outputs: soil\n",
        "\n",
        "item2 = polEngDict.get(\"woda\")\n",
        "print(item2)    # outputs: water\n",
        "```\n",
        "3. If you want to change the value associated with a specific key, you can do so by referring to the item's key name in the following way:\n",
        "\n",
        "```python\n",
        "polEngDict = {\n",
        "    \"zamek\" : \"castle\",\n",
        "    \"woda\"  : \"water\",\n",
        "    \"gleba\" : \"soil\"\n",
        "    }\n",
        "\n",
        "polEngDict[\"zamek\"] = \"lock\"\n",
        "item = polEngDict[\"zamek\"]    # outputs: lock\n",
        "```\n",
        "4. To add or remove a key (and the associated value), use the following syntax:\n",
        "\n",
        "```python\n",
        "myPhonebook = {}    # an empty dictionary\n",
        "\n",
        "myPhonebook[\"Adam\"] = 3456783958    # create/add a key-value pair\n",
        "print(myPhonebook)    # outputs: {'Adam': 3456783958}\n",
        "\n",
        "del myPhonebook[\"Adam\"]\n",
        "print(myPhonebook)    # outputs: {}\n",
        "```\n",
        "\n",
        "You can also insert an item to a dictionary by using the update() method, and remove the last element by using the popitem() method, e.g.:\n",
        "\n",
        "```python\n",
        "polEngDict = {\"kwiat\" : \"flower\"}\n",
        "\n",
        "polEngDict = update(\"gleba\" : \"soil\")\n",
        "print(polEngDict)    # outputs: {'kwiat' : 'flower', 'gleba' : 'soil'}\n",
        "\n",
        "polEngDict.popitem()\n",
        "print(polEngDict)    # outputs: {'kwiat' : 'flower'}\n",
        "```\n",
        "\n",
        "5. You can use the for loop to loop through a dictionary, e.g.:\n",
        "\n",
        "```python\n",
        "polEngDict = {\n",
        "    \"zamek\" : \"castle\",\n",
        "    \"woda\"  : \"water\",\n",
        "    \"gleba\" : \"soil\"\n",
        "    }\n",
        "\n",
        "for item in polEngDict:\n",
        "    print(item)    # outputs: zamek\n",
        "                   #          woda\n",
        "                   #          gleba\n",
        "\n",
        "```\n",
        "\n",
        "\n",
        "\n",
        "6. If you want to loop through a dictionary's keys and values, you can use the items() method, e.g.:\n",
        "\n",
        "\n",
        "```python\n",
        "polEngDict = {\n",
        "    \"zamek\" : \"castle\",\n",
        "    \"woda\"  : \"water\",\n",
        "    \"gleba\" : \"soil\"\n",
        "    }\n",
        "\n",
        "for key, value in polEngDict.items():\n",
        "    print(\"Pol/Eng ->\", key, \":\", value)\n",
        "```\n",
        "\n",
        "\n",
        "7. To check if a given key exists in a dictionary, you can use the in keyword:\n",
        "\n",
        "```python\n",
        "polEngDict = {\n",
        "    \"zamek\" : \"castle\",\n",
        "    \"woda\"  : \"water\",\n",
        "    \"gleba\" : \"soil\"\n",
        "    }\n",
        "\n",
        "if \"zamek\" in polEngDict:\n",
        "    print(\"Yes\")\n",
        "else:\n",
        "    print(\"No\")\n",
        "```\n",
        "\n",
        "8. You can use the del keyword to remove a specific item, or delete a dictionary. To remove all the dictionary's items, you need to use the clear() method:\n",
        "\n",
        "```python\n",
        "polEngDict = {\n",
        "    \"zamek\" : \"castle\",\n",
        "    \"woda\"  : \"water\",\n",
        "    \"gleba\" : \"soil\"\n",
        "    }\n",
        "\n",
        "print(len(polEngDict))    # outputs: 3\n",
        "del polEngDict[\"zamek\"]    # remove an item\n",
        "print(len(polEngDict))    # outputs: 2\n",
        "\n",
        "polEngDict.clear()   # removes all the items\n",
        "print(len(polEngDict))    # outputs: 0\n",
        "\n",
        "del polEngDict    # removes the dictionary\n",
        "```\n",
        "\n",
        "9. To copy a dictionary, use the copy() method:\n",
        "\n",
        "```python\n",
        "polEngDict = {\n",
        "    \"zamek\" : \"castle\",\n",
        "    \"woda\"  : \"water\",\n",
        "    \"gleba\" : \"soil\"\n",
        "    }\n",
        "\n",
        "copyDict = polEngDict.copy()\n",
        "```"
      ]
    },
    {
      "cell_type": "markdown",
      "metadata": {
        "id": "QnaxcQfJc-TU"
      },
      "source": [
        "# Key Takeaways"
      ]
    },
    {
      "cell_type": "code",
      "execution_count": 48,
      "metadata": {
        "colab": {
          "base_uri": "https://localhost:8080/"
        },
        "id": "6jjJx7Ljc-TV",
        "outputId": "5718849a-51d7-4309-e689-583f58897de4"
      },
      "outputs": [
        {
          "output_type": "stream",
          "name": "stdout",
          "text": [
            "None\n",
            "[5, 6]\n",
            "(3, 4)\n",
            "a string\n",
            "True\n",
            "2\n",
            "1\n"
          ]
        }
      ],
      "source": [
        "myTuple = (1, 2, True, \"a string\", (3, 4), [5, 6], None)\n",
        "#print(myTuple)\n",
        "\n",
        "myList = [1, 2, True, \"a string\", (3, 4), [5, 6], None]\n",
        "#print(myList)\n",
        "\n",
        "for r in myTuple[::-1]:\n",
        "    print(r)"
      ]
    },
    {
      "cell_type": "code",
      "execution_count": 49,
      "metadata": {
        "colab": {
          "base_uri": "https://localhost:8080/"
        },
        "id": "YFkx2ti5c-TV",
        "outputId": "dbadc874-b634-48f6-cf06-10011056a85d"
      },
      "outputs": [
        {
          "output_type": "stream",
          "name": "stdout",
          "text": [
            "<class 'tuple'>\n"
          ]
        }
      ],
      "source": [
        "emptyTuple = ()\n",
        "print(type(emptyTuple))    # outputs: <class 'tuple'>"
      ]
    },
    {
      "cell_type": "code",
      "execution_count": 50,
      "metadata": {
        "colab": {
          "base_uri": "https://localhost:8080/"
        },
        "id": "p0iv5zllc-TV",
        "outputId": "522d9e29-e0a4-4f82-b5a9-a17b43b91ea1"
      },
      "outputs": [
        {
          "output_type": "stream",
          "name": "stdout",
          "text": [
            "[1, 2, True, 'a string', (3, 4), [5, 6], None]\n",
            "(1, 2, True, 'a string', (3, 4), [5, 6], None)\n"
          ]
        }
      ],
      "source": [
        "myListTuple = list(myTuple)\n",
        "print(myListTuple)\n",
        "myTupleLagi = tuple(myListTuple)\n",
        "print(myTupleLagi)"
      ]
    },
    {
      "cell_type": "code",
      "execution_count": 51,
      "metadata": {
        "colab": {
          "base_uri": "https://localhost:8080/"
        },
        "id": "_0SMNhXtc-TV",
        "outputId": "a8094cd3-1606-4bf6-8cc5-8aef6dd146dc"
      },
      "outputs": [
        {
          "output_type": "stream",
          "name": "stdout",
          "text": [
            "<class 'tuple'>\n",
            "2\n",
            "<class 'list'>\n"
          ]
        }
      ],
      "source": [
        "oneElemTup1 = (\"one\",  )    # brackets dan koma, kalau tidak ada komanya jadi string\n",
        "oneElemTup2 = \"one\",     # no brackets, just a comma\n",
        "\n",
        "print(type(oneElemTup1))\n",
        "print(len(oneElemTup1+oneElemTup2))\n",
        "\n",
        "oneElemList = ['one']\n",
        "print(type(oneElemList))"
      ]
    },
    {
      "cell_type": "code",
      "execution_count": 52,
      "metadata": {
        "colab": {
          "base_uri": "https://localhost:8080/"
        },
        "id": "3iFkGImRc-TV",
        "outputId": "00fbd30e-8134-4a5e-b815-47072af59e05"
      },
      "outputs": [
        {
          "output_type": "stream",
          "name": "stdout",
          "text": [
            "1\n",
            "2\n",
            "3\n",
            "False\n",
            "True\n",
            "4\n",
            "(1, 2, 3, 1, 2, 3, 4)\n",
            "(1, 2, 3, 5, 1, 2, 3, 5)\n"
          ]
        }
      ],
      "source": [
        "# Example 1\n",
        "t1 = (1, 2, 3)\n",
        "for elem in t1:\n",
        "    print(elem)\n",
        "\n",
        "# Example 2\n",
        "t2 = (1, 2, 3, 4)\n",
        "print(5 in t2)\n",
        "print(5 not in t2)\n",
        "\n",
        "# Example 3\n",
        "t3 = (1, 2, 3, 5)\n",
        "print(len(t3))\n",
        "\n",
        "# Example 4\n",
        "t4 = t1 + t2\n",
        "t5 = t3 * 2\n",
        "\n",
        "print(t4)\n",
        "print(t5)\n"
      ]
    },
    {
      "cell_type": "code",
      "execution_count": 53,
      "metadata": {
        "colab": {
          "base_uri": "https://localhost:8080/"
        },
        "id": "LwDB3_AFc-TV",
        "outputId": "9b500d32-a1b8-46df-8dd9-1639fad22c22"
      },
      "outputs": [
        {
          "output_type": "stream",
          "name": "stdout",
          "text": [
            "79\n"
          ]
        }
      ],
      "source": [
        "import pprint\n",
        "pp = pprint.PrettyPrinter(indent=4)\n",
        "\n",
        "mahasiswa = [\n",
        "    {\n",
        "        'nim' : '08/123123/PA/123213',\n",
        "        'nama' : 'Guntur Budi H',\n",
        "        'nilai' : [80,90,75,30]\n",
        "    },\n",
        "    {\n",
        "        'nim' : '08/213123/PA/98120',\n",
        "        'nama' : 'Annisa Maulida N',\n",
        "        'nilai' : [100,90,77,110]\n",
        "    }\n",
        "]\n",
        "mahasiswa_baru = {\n",
        "    'nim' : '12/12414/PA/12312',\n",
        "    'nama' : 'Miftahhurahma Rosyda'\n",
        "}\n",
        "\n",
        "mahasiswa.append(mahasiswa_baru)\n",
        "mahasiswa[0]['nilai'].append(79)\n",
        "mahasiswa[2]['nilai'] = [80,100,95,25]\n",
        "\n",
        "#pp.pprint(mahasiswa)\n",
        "pp.pprint(mahasiswa[0]['nilai'][-1])"
      ]
    },
    {
      "cell_type": "code",
      "execution_count": 54,
      "metadata": {
        "colab": {
          "base_uri": "https://localhost:8080/",
          "height": 211
        },
        "id": "tRJfOBqoc-TV",
        "outputId": "f55dfd4b-9e16-4abd-e9be-2e9d236e47a3"
      },
      "outputs": [
        {
          "output_type": "error",
          "ename": "FileNotFoundError",
          "evalue": "[Errno 2] No such file or directory: 'files/sinonim.txt'",
          "traceback": [
            "\u001b[0;31m---------------------------------------------------------------------------\u001b[0m",
            "\u001b[0;31mFileNotFoundError\u001b[0m                         Traceback (most recent call last)",
            "\u001b[0;32m<ipython-input-54-b58b8842b584>\u001b[0m in \u001b[0;36m<cell line: 0>\u001b[0;34m()\u001b[0m\n\u001b[0;32m----> 1\u001b[0;31m \u001b[0msinonim\u001b[0m \u001b[0;34m=\u001b[0m \u001b[0mopen\u001b[0m\u001b[0;34m(\u001b[0m\u001b[0;34m'files/sinonim.txt'\u001b[0m\u001b[0;34m,\u001b[0m\u001b[0;34m'r'\u001b[0m\u001b[0;34m)\u001b[0m\u001b[0;34m\u001b[0m\u001b[0;34m\u001b[0m\u001b[0m\n\u001b[0m\u001b[1;32m      2\u001b[0m \u001b[0mi\u001b[0m \u001b[0;34m=\u001b[0m \u001b[0;36m1\u001b[0m\u001b[0;34m\u001b[0m\u001b[0;34m\u001b[0m\u001b[0m\n\u001b[1;32m      3\u001b[0m \u001b[0;32mfor\u001b[0m \u001b[0ms\u001b[0m \u001b[0;32min\u001b[0m \u001b[0msinonim\u001b[0m\u001b[0;34m:\u001b[0m\u001b[0;34m\u001b[0m\u001b[0;34m\u001b[0m\u001b[0m\n\u001b[1;32m      4\u001b[0m \u001b[0;31m#     print(s)\u001b[0m\u001b[0;34m\u001b[0m\u001b[0;34m\u001b[0m\u001b[0m\n\u001b[1;32m      5\u001b[0m     \u001b[0mbaris\u001b[0m \u001b[0;34m=\u001b[0m \u001b[0ms\u001b[0m\u001b[0;34m.\u001b[0m\u001b[0msplit\u001b[0m\u001b[0;34m(\u001b[0m\u001b[0;34m':'\u001b[0m\u001b[0;34m)\u001b[0m\u001b[0;34m\u001b[0m\u001b[0;34m\u001b[0m\u001b[0m\n",
            "\u001b[0;31mFileNotFoundError\u001b[0m: [Errno 2] No such file or directory: 'files/sinonim.txt'"
          ]
        }
      ],
      "source": [
        "sinonim = open('files/sinonim.txt','r')\n",
        "i = 1\n",
        "for s in sinonim:\n",
        "#     print(s)\n",
        "    baris = s.split(':')\n",
        "    print(baris)\n",
        "    kata = baris[1].split(',')\n",
        "    print(baris[0],kata)"
      ]
    },
    {
      "cell_type": "markdown",
      "metadata": {
        "id": "IHcle58ac-TV"
      },
      "source": [
        "sebuah_dict = {'Miftah':'Kurus'}\n",
        "sebuah_dict['Miftah'] += ',Cantik'\n",
        "print(sebuah_dict)"
      ]
    },
    {
      "cell_type": "code",
      "execution_count": null,
      "metadata": {
        "id": "u33V4ehvc-TV"
      },
      "outputs": [],
      "source": [
        "paragraf = \"\"\"\n",
        "Kisah ini bermula dari seorang dewa dan seorang dewi yang karena kesalahan yang dibuatnya di kayangan, akhirnya harus menjalani hukuman di dunia. Keduanya dihukum untuk berbuat kebaikan dalam hidupnya di bumi dalam bentuk seekor babi hutan dan seekor anjing. Babi hutan jelmaan dewi itu bernama Wayung Hyang, sedangkan anjing jelmaan dewa itu bernama Tumang. Wayung Hyang karena dihukum sebagai babi hutan atau celeng, maka ia berusaha melakukan berbagai kebaikan di dalam sebuah hutan. Sementara Tumang, sang anjing jelmaan dewa itu mengabdi sebagai anjing pemburu pada seorang raja yang bernama Sumbing Perbangkara.\n",
        "\"\"\"\n",
        "\n",
        "#sintaks ini\n",
        "kalimat = [k.strip().upper() for k in paragraf.split('.')] #memisahkan kalimat berdasarkan titik untuk menjadi list\n",
        "# print(kalimat)\n",
        "\n",
        "#sama dengan ini\n",
        "kalimat_baru = []\n",
        "for k in paragraf.split('.'):\n",
        "    kalimat_baru.append(k.strip())\n",
        "#     if k.endswith('dunia'):\n",
        "#         print(\"Ada Dunia pada kalimat\",k)\n",
        "\n",
        "    if k.find('dunia'):\n",
        "        print(\"Ada dunia pada kalimat\",k)\n",
        "\n",
        "\n",
        "#versi satu satu\n",
        "kalimat_a = paragraf.split('.') #memisahkan kalimat berdasarkan titik di paragraf\n",
        "kalimat_a[1] =  kalimat_a[1].strip() #menghilangkan spasi\n",
        "kalimat_a[2] =  kalimat_a[2].strip() #menghilangkan spasi\n",
        "\n",
        "\n"
      ]
    },
    {
      "cell_type": "code",
      "execution_count": null,
      "metadata": {
        "id": "DzzX7iQ9c-TV"
      },
      "outputs": [],
      "source": [
        "k = \"abu salam \"\n",
        "print(k.capitalize())\n",
        "print(k.endswith(\"budi h\"))\n"
      ]
    }
  ],
  "metadata": {
    "kernelspec": {
      "display_name": "Python 3 (ipykernel)",
      "language": "python",
      "name": "python3"
    },
    "language_info": {
      "codemirror_mode": {
        "name": "ipython",
        "version": 3
      },
      "file_extension": ".py",
      "mimetype": "text/x-python",
      "name": "python",
      "nbconvert_exporter": "python",
      "pygments_lexer": "ipython3",
      "version": "3.9.5"
    },
    "colab": {
      "provenance": []
    }
  },
  "nbformat": 4,
  "nbformat_minor": 0
}